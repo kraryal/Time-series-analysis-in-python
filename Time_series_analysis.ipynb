{
 "cells": [
  {
   "cell_type": "markdown",
   "id": "ad4f3a70-c0a9-4c04-85bf-c82fab8baeb4",
   "metadata": {},
   "source": [
    "# Time series analysis"
   ]
  },
  {
   "cell_type": "code",
   "execution_count": 77,
   "id": "b329f054-63f8-43e0-8357-163bcf8717e6",
   "metadata": {},
   "outputs": [],
   "source": [
    "import pandas as pd\n",
    "from datetime import datetime, timedelta\n",
    "import matplotlib.pyplot as plt\n",
    "import numpy as np\n",
    "from statsmodels.tsa.seasonal import seasonal_decompose\n",
    "import seaborn as sns\n",
    "\n",
    "%matplotlib inline\n",
    "\n",
    "import warnings\n",
    "\n",
    "warnings.filterwarnings('ignore')"
   ]
  },
  {
   "cell_type": "code",
   "execution_count": 78,
   "id": "c63eac4f-07bd-4cee-99f9-07fbc41ace46",
   "metadata": {},
   "outputs": [
    {
     "data": {
      "text/html": [
       "<div>\n",
       "<style scoped>\n",
       "    .dataframe tbody tr th:only-of-type {\n",
       "        vertical-align: middle;\n",
       "    }\n",
       "\n",
       "    .dataframe tbody tr th {\n",
       "        vertical-align: top;\n",
       "    }\n",
       "\n",
       "    .dataframe thead th {\n",
       "        text-align: right;\n",
       "    }\n",
       "</style>\n",
       "<table border=\"1\" class=\"dataframe\">\n",
       "  <thead>\n",
       "    <tr style=\"text-align: right;\">\n",
       "      <th></th>\n",
       "      <th>dt</th>\n",
       "      <th>AverageTemperature</th>\n",
       "      <th>AverageTemperatureUncertainty</th>\n",
       "      <th>State</th>\n",
       "      <th>Country</th>\n",
       "    </tr>\n",
       "  </thead>\n",
       "  <tbody>\n",
       "    <tr>\n",
       "      <th>0</th>\n",
       "      <td>1855-05-01</td>\n",
       "      <td>25.544</td>\n",
       "      <td>1.171</td>\n",
       "      <td>Acre</td>\n",
       "      <td>Brazil</td>\n",
       "    </tr>\n",
       "    <tr>\n",
       "      <th>1</th>\n",
       "      <td>1855-06-01</td>\n",
       "      <td>24.228</td>\n",
       "      <td>1.103</td>\n",
       "      <td>Acre</td>\n",
       "      <td>Brazil</td>\n",
       "    </tr>\n",
       "    <tr>\n",
       "      <th>2</th>\n",
       "      <td>1855-07-01</td>\n",
       "      <td>24.371</td>\n",
       "      <td>1.044</td>\n",
       "      <td>Acre</td>\n",
       "      <td>Brazil</td>\n",
       "    </tr>\n",
       "    <tr>\n",
       "      <th>3</th>\n",
       "      <td>1855-08-01</td>\n",
       "      <td>25.427</td>\n",
       "      <td>1.073</td>\n",
       "      <td>Acre</td>\n",
       "      <td>Brazil</td>\n",
       "    </tr>\n",
       "    <tr>\n",
       "      <th>4</th>\n",
       "      <td>1855-09-01</td>\n",
       "      <td>25.675</td>\n",
       "      <td>1.014</td>\n",
       "      <td>Acre</td>\n",
       "      <td>Brazil</td>\n",
       "    </tr>\n",
       "  </tbody>\n",
       "</table>\n",
       "</div>"
      ],
      "text/plain": [
       "           dt  AverageTemperature  AverageTemperatureUncertainty State Country\n",
       "0  1855-05-01              25.544                          1.171  Acre  Brazil\n",
       "1  1855-06-01              24.228                          1.103  Acre  Brazil\n",
       "2  1855-07-01              24.371                          1.044  Acre  Brazil\n",
       "3  1855-08-01              25.427                          1.073  Acre  Brazil\n",
       "4  1855-09-01              25.675                          1.014  Acre  Brazil"
      ]
     },
     "execution_count": 78,
     "metadata": {},
     "output_type": "execute_result"
    }
   ],
   "source": [
    "df = pd.read_csv(\"GlobalLandTemperaturesByState.csv\")\n",
    "\n",
    "df.head()"
   ]
  },
  {
   "cell_type": "code",
   "execution_count": 79,
   "id": "3cde8afb-3749-4f39-a752-68e398231b52",
   "metadata": {},
   "outputs": [
    {
     "data": {
      "text/plain": [
       "(645675, 5)"
      ]
     },
     "execution_count": 79,
     "metadata": {},
     "output_type": "execute_result"
    }
   ],
   "source": [
    "df.shape"
   ]
  },
  {
   "cell_type": "code",
   "execution_count": 80,
   "id": "53c1bfb7-bef2-4c27-b611-74b364ba657e",
   "metadata": {},
   "outputs": [
    {
     "data": {
      "text/plain": [
       "dt                                object\n",
       "AverageTemperature               float64\n",
       "AverageTemperatureUncertainty    float64\n",
       "State                             object\n",
       "Country                           object\n",
       "dtype: object"
      ]
     },
     "execution_count": 80,
     "metadata": {},
     "output_type": "execute_result"
    }
   ],
   "source": [
    "df.dtypes"
   ]
  },
  {
   "cell_type": "code",
   "execution_count": 81,
   "id": "2d546508-5aae-406e-b2cf-02253435dae8",
   "metadata": {},
   "outputs": [
    {
     "data": {
      "text/plain": [
       "dt                                   0\n",
       "AverageTemperature               25648\n",
       "AverageTemperatureUncertainty    25648\n",
       "State                                0\n",
       "Country                              0\n",
       "dtype: int64"
      ]
     },
     "execution_count": 81,
     "metadata": {},
     "output_type": "execute_result"
    }
   ],
   "source": [
    "df.isnull().sum()"
   ]
  },
  {
   "cell_type": "code",
   "execution_count": 82,
   "id": "1809d658-12bd-43e3-8177-6c7eb5e60b32",
   "metadata": {},
   "outputs": [
    {
     "data": {
      "text/plain": [
       "(620027, 5)"
      ]
     },
     "execution_count": 82,
     "metadata": {},
     "output_type": "execute_result"
    }
   ],
   "source": [
    "df=df.dropna(how='any',axis=0)\n",
    "df.shape"
   ]
  },
  {
   "cell_type": "markdown",
   "id": "374a9c55-d1aa-4a0b-af26-17b1700db135",
   "metadata": {},
   "source": [
    "# Rename columns"
   ]
  },
  {
   "cell_type": "code",
   "execution_count": 83,
   "id": "7bca3c8f-8762-4624-a8e3-efcb85f59770",
   "metadata": {},
   "outputs": [],
   "source": [
    "df.rename(columns={'dt':'Date', 'AverageTemperature':'Avg_Temp',\\\n",
    "                   'AverageTemperatureUncertainty':'confidence_interval_temp'},inplace=True)"
   ]
  },
  {
   "cell_type": "code",
   "execution_count": 84,
   "id": "04fc05dd-d97c-4a87-9920-2152cae2aa58",
   "metadata": {},
   "outputs": [
    {
     "data": {
      "text/plain": [
       "Index(['Date', 'Avg_Temp', 'confidence_interval_temp', 'State', 'Country'], dtype='object')"
      ]
     },
     "execution_count": 84,
     "metadata": {},
     "output_type": "execute_result"
    }
   ],
   "source": [
    "df.columns"
   ]
  },
  {
   "cell_type": "markdown",
   "id": "7021f466-ecf9-41c6-a0ac-0d015ff04ba4",
   "metadata": {},
   "source": [
    "# setting date as index column"
   ]
  },
  {
   "cell_type": "code",
   "execution_count": 85,
   "id": "4593aa92-eda1-43d4-87b4-9a39df314f06",
   "metadata": {},
   "outputs": [
    {
     "data": {
      "text/plain": [
       "DatetimeIndex(['1855-05-01', '1855-06-01', '1855-07-01', '1855-08-01',\n",
       "               '1855-09-01', '1855-10-01', '1855-11-01', '1855-12-01',\n",
       "               '1856-01-01', '1856-02-01',\n",
       "               ...\n",
       "               '2012-11-01', '2012-12-01', '2013-01-01', '2013-02-01',\n",
       "               '2013-03-01', '2013-04-01', '2013-05-01', '2013-06-01',\n",
       "               '2013-07-01', '2013-08-01'],\n",
       "              dtype='datetime64[ns]', name='Date', length=620027, freq=None)"
      ]
     },
     "execution_count": 85,
     "metadata": {},
     "output_type": "execute_result"
    }
   ],
   "source": [
    "df['Date']=pd.to_datetime(df['Date'])\n",
    "df.set_index('Date',inplace=True)\n",
    "df.index"
   ]
  },
  {
   "cell_type": "markdown",
   "id": "c2d6d7f0-46ae-44d1-9036-b6dd30296772",
   "metadata": {},
   "source": []
  },
  {
   "cell_type": "code",
   "execution_count": 86,
   "id": "333ec730-f554-4492-8a5b-a6d50b51ef98",
   "metadata": {},
   "outputs": [
    {
     "data": {
      "text/html": [
       "<div>\n",
       "<style scoped>\n",
       "    .dataframe tbody tr th:only-of-type {\n",
       "        vertical-align: middle;\n",
       "    }\n",
       "\n",
       "    .dataframe tbody tr th {\n",
       "        vertical-align: top;\n",
       "    }\n",
       "\n",
       "    .dataframe thead th {\n",
       "        text-align: right;\n",
       "    }\n",
       "</style>\n",
       "<table border=\"1\" class=\"dataframe\">\n",
       "  <thead>\n",
       "    <tr style=\"text-align: right;\">\n",
       "      <th></th>\n",
       "      <th>Avg_Temp</th>\n",
       "      <th>confidence_interval_temp</th>\n",
       "    </tr>\n",
       "  </thead>\n",
       "  <tbody>\n",
       "    <tr>\n",
       "      <th>count</th>\n",
       "      <td>620027.000000</td>\n",
       "      <td>620027.000000</td>\n",
       "    </tr>\n",
       "    <tr>\n",
       "      <th>mean</th>\n",
       "      <td>8.993111</td>\n",
       "      <td>1.287647</td>\n",
       "    </tr>\n",
       "    <tr>\n",
       "      <th>std</th>\n",
       "      <td>13.772150</td>\n",
       "      <td>1.360392</td>\n",
       "    </tr>\n",
       "    <tr>\n",
       "      <th>min</th>\n",
       "      <td>-45.389000</td>\n",
       "      <td>0.036000</td>\n",
       "    </tr>\n",
       "    <tr>\n",
       "      <th>25%</th>\n",
       "      <td>-0.693000</td>\n",
       "      <td>0.316000</td>\n",
       "    </tr>\n",
       "    <tr>\n",
       "      <th>50%</th>\n",
       "      <td>11.199000</td>\n",
       "      <td>0.656000</td>\n",
       "    </tr>\n",
       "    <tr>\n",
       "      <th>75%</th>\n",
       "      <td>19.899000</td>\n",
       "      <td>1.850000</td>\n",
       "    </tr>\n",
       "    <tr>\n",
       "      <th>max</th>\n",
       "      <td>36.339000</td>\n",
       "      <td>12.646000</td>\n",
       "    </tr>\n",
       "  </tbody>\n",
       "</table>\n",
       "</div>"
      ],
      "text/plain": [
       "            Avg_Temp  confidence_interval_temp\n",
       "count  620027.000000             620027.000000\n",
       "mean        8.993111                  1.287647\n",
       "std        13.772150                  1.360392\n",
       "min       -45.389000                  0.036000\n",
       "25%        -0.693000                  0.316000\n",
       "50%        11.199000                  0.656000\n",
       "75%        19.899000                  1.850000\n",
       "max        36.339000                 12.646000"
      ]
     },
     "execution_count": 86,
     "metadata": {},
     "output_type": "execute_result"
    }
   ],
   "source": [
    "df.describe()"
   ]
  },
  {
   "cell_type": "markdown",
   "id": "0497a75e-ab8f-4c59-8023-6be74b5af6e7",
   "metadata": {},
   "source": [
    "# creating year column from Date column"
   ]
  },
  {
   "cell_type": "code",
   "execution_count": 87,
   "id": "c524b8a4-d712-4903-a6dc-f5f0a5ba0eb9",
   "metadata": {},
   "outputs": [
    {
     "data": {
      "text/html": [
       "<div>\n",
       "<style scoped>\n",
       "    .dataframe tbody tr th:only-of-type {\n",
       "        vertical-align: middle;\n",
       "    }\n",
       "\n",
       "    .dataframe tbody tr th {\n",
       "        vertical-align: top;\n",
       "    }\n",
       "\n",
       "    .dataframe thead th {\n",
       "        text-align: right;\n",
       "    }\n",
       "</style>\n",
       "<table border=\"1\" class=\"dataframe\">\n",
       "  <thead>\n",
       "    <tr style=\"text-align: right;\">\n",
       "      <th></th>\n",
       "      <th>Avg_Temp</th>\n",
       "      <th>confidence_interval_temp</th>\n",
       "      <th>State</th>\n",
       "      <th>Country</th>\n",
       "      <th>Year</th>\n",
       "    </tr>\n",
       "    <tr>\n",
       "      <th>Date</th>\n",
       "      <th></th>\n",
       "      <th></th>\n",
       "      <th></th>\n",
       "      <th></th>\n",
       "      <th></th>\n",
       "    </tr>\n",
       "  </thead>\n",
       "  <tbody>\n",
       "    <tr>\n",
       "      <th>1855-05-01</th>\n",
       "      <td>25.544</td>\n",
       "      <td>1.171</td>\n",
       "      <td>Acre</td>\n",
       "      <td>Brazil</td>\n",
       "      <td>1855</td>\n",
       "    </tr>\n",
       "    <tr>\n",
       "      <th>1855-06-01</th>\n",
       "      <td>24.228</td>\n",
       "      <td>1.103</td>\n",
       "      <td>Acre</td>\n",
       "      <td>Brazil</td>\n",
       "      <td>1855</td>\n",
       "    </tr>\n",
       "    <tr>\n",
       "      <th>1855-07-01</th>\n",
       "      <td>24.371</td>\n",
       "      <td>1.044</td>\n",
       "      <td>Acre</td>\n",
       "      <td>Brazil</td>\n",
       "      <td>1855</td>\n",
       "    </tr>\n",
       "    <tr>\n",
       "      <th>1855-08-01</th>\n",
       "      <td>25.427</td>\n",
       "      <td>1.073</td>\n",
       "      <td>Acre</td>\n",
       "      <td>Brazil</td>\n",
       "      <td>1855</td>\n",
       "    </tr>\n",
       "    <tr>\n",
       "      <th>1855-09-01</th>\n",
       "      <td>25.675</td>\n",
       "      <td>1.014</td>\n",
       "      <td>Acre</td>\n",
       "      <td>Brazil</td>\n",
       "      <td>1855</td>\n",
       "    </tr>\n",
       "  </tbody>\n",
       "</table>\n",
       "</div>"
      ],
      "text/plain": [
       "            Avg_Temp  confidence_interval_temp State Country  Year\n",
       "Date                                                              \n",
       "1855-05-01    25.544                     1.171  Acre  Brazil  1855\n",
       "1855-06-01    24.228                     1.103  Acre  Brazil  1855\n",
       "1855-07-01    24.371                     1.044  Acre  Brazil  1855\n",
       "1855-08-01    25.427                     1.073  Acre  Brazil  1855\n",
       "1855-09-01    25.675                     1.014  Acre  Brazil  1855"
      ]
     },
     "execution_count": 87,
     "metadata": {},
     "output_type": "execute_result"
    }
   ],
   "source": [
    "df['Year']=df.index.year\n",
    "df.head()"
   ]
  },
  {
   "cell_type": "markdown",
   "id": "e920df3a-5cfb-4e4a-8696-4c3b5cb3b899",
   "metadata": {},
   "source": [
    "# selecting year range"
   ]
  },
  {
   "cell_type": "code",
   "execution_count": 88,
   "id": "a0e1e0e2-dbf0-4912-9a0a-16f6071dc476",
   "metadata": {},
   "outputs": [
    {
     "data": {
      "text/html": [
       "<div>\n",
       "<style scoped>\n",
       "    .dataframe tbody tr th:only-of-type {\n",
       "        vertical-align: middle;\n",
       "    }\n",
       "\n",
       "    .dataframe tbody tr th {\n",
       "        vertical-align: top;\n",
       "    }\n",
       "\n",
       "    .dataframe thead th {\n",
       "        text-align: right;\n",
       "    }\n",
       "</style>\n",
       "<table border=\"1\" class=\"dataframe\">\n",
       "  <thead>\n",
       "    <tr style=\"text-align: right;\">\n",
       "      <th></th>\n",
       "      <th>Avg_Temp</th>\n",
       "      <th>confidence_interval_temp</th>\n",
       "      <th>State</th>\n",
       "      <th>Country</th>\n",
       "      <th>Year</th>\n",
       "    </tr>\n",
       "    <tr>\n",
       "      <th>Date</th>\n",
       "      <th></th>\n",
       "      <th></th>\n",
       "      <th></th>\n",
       "      <th></th>\n",
       "      <th></th>\n",
       "    </tr>\n",
       "  </thead>\n",
       "  <tbody>\n",
       "    <tr>\n",
       "      <th>1980-01-01</th>\n",
       "      <td>26.652</td>\n",
       "      <td>0.190</td>\n",
       "      <td>Acre</td>\n",
       "      <td>Brazil</td>\n",
       "      <td>1980</td>\n",
       "    </tr>\n",
       "    <tr>\n",
       "      <th>1980-02-01</th>\n",
       "      <td>26.495</td>\n",
       "      <td>0.495</td>\n",
       "      <td>Acre</td>\n",
       "      <td>Brazil</td>\n",
       "      <td>1980</td>\n",
       "    </tr>\n",
       "    <tr>\n",
       "      <th>1980-03-01</th>\n",
       "      <td>26.270</td>\n",
       "      <td>0.236</td>\n",
       "      <td>Acre</td>\n",
       "      <td>Brazil</td>\n",
       "      <td>1980</td>\n",
       "    </tr>\n",
       "    <tr>\n",
       "      <th>1980-04-01</th>\n",
       "      <td>26.430</td>\n",
       "      <td>0.201</td>\n",
       "      <td>Acre</td>\n",
       "      <td>Brazil</td>\n",
       "      <td>1980</td>\n",
       "    </tr>\n",
       "    <tr>\n",
       "      <th>1980-05-01</th>\n",
       "      <td>25.802</td>\n",
       "      <td>0.882</td>\n",
       "      <td>Acre</td>\n",
       "      <td>Brazil</td>\n",
       "      <td>1980</td>\n",
       "    </tr>\n",
       "  </tbody>\n",
       "</table>\n",
       "</div>"
      ],
      "text/plain": [
       "            Avg_Temp  confidence_interval_temp State Country  Year\n",
       "Date                                                              \n",
       "1980-01-01    26.652                     0.190  Acre  Brazil  1980\n",
       "1980-02-01    26.495                     0.495  Acre  Brazil  1980\n",
       "1980-03-01    26.270                     0.236  Acre  Brazil  1980\n",
       "1980-04-01    26.430                     0.201  Acre  Brazil  1980\n",
       "1980-05-01    25.802                     0.882  Acre  Brazil  1980"
      ]
     },
     "execution_count": 88,
     "metadata": {},
     "output_type": "execute_result"
    }
   ],
   "source": [
    "#new_df = df[(df['Date'] > '1980-01-01') & (df['Date'] <= '2013-12-31')]\n",
    "latest_df=df.loc['1980':'2013']\n",
    "latest_df.head()"
   ]
  },
  {
   "cell_type": "markdown",
   "id": "e617e6bf-a374-40eb-964c-d1304d4a20d3",
   "metadata": {},
   "source": [
    "# Let's find country temperature average"
   ]
  },
  {
   "cell_type": "code",
   "execution_count": 89,
   "id": "a51deef4-2ea5-4852-9fd2-f15554d14746",
   "metadata": {},
   "outputs": [
    {
     "data": {
      "text/html": [
       "<div>\n",
       "<style scoped>\n",
       "    .dataframe tbody tr th:only-of-type {\n",
       "        vertical-align: middle;\n",
       "    }\n",
       "\n",
       "    .dataframe tbody tr th {\n",
       "        vertical-align: top;\n",
       "    }\n",
       "\n",
       "    .dataframe thead th {\n",
       "        text-align: right;\n",
       "    }\n",
       "</style>\n",
       "<table border=\"1\" class=\"dataframe\">\n",
       "  <thead>\n",
       "    <tr style=\"text-align: right;\">\n",
       "      <th></th>\n",
       "      <th>Avg_Temp</th>\n",
       "    </tr>\n",
       "    <tr>\n",
       "      <th>Country</th>\n",
       "      <th></th>\n",
       "    </tr>\n",
       "  </thead>\n",
       "  <tbody>\n",
       "    <tr>\n",
       "      <th>Canada</th>\n",
       "      <td>-0.681256</td>\n",
       "    </tr>\n",
       "    <tr>\n",
       "      <th>Russia</th>\n",
       "      <td>2.432833</td>\n",
       "    </tr>\n",
       "    <tr>\n",
       "      <th>United States</th>\n",
       "      <td>11.516373</td>\n",
       "    </tr>\n",
       "    <tr>\n",
       "      <th>China</th>\n",
       "      <td>12.150210</td>\n",
       "    </tr>\n",
       "    <tr>\n",
       "      <th>Australia</th>\n",
       "      <td>18.447621</td>\n",
       "    </tr>\n",
       "    <tr>\n",
       "      <th>India</th>\n",
       "      <td>22.871669</td>\n",
       "    </tr>\n",
       "    <tr>\n",
       "      <th>Brazil</th>\n",
       "      <td>24.537580</td>\n",
       "    </tr>\n",
       "  </tbody>\n",
       "</table>\n",
       "</div>"
      ],
      "text/plain": [
       "                Avg_Temp\n",
       "Country                 \n",
       "Canada         -0.681256\n",
       "Russia          2.432833\n",
       "United States  11.516373\n",
       "China          12.150210\n",
       "Australia      18.447621\n",
       "India          22.871669\n",
       "Brazil         24.537580"
      ]
     },
     "execution_count": 89,
     "metadata": {},
     "output_type": "execute_result"
    }
   ],
   "source": [
    "latest_df[['Country','Avg_Temp']].groupby(['Country']).mean().sort_values('Avg_Temp')"
   ]
  },
  {
   "cell_type": "code",
   "execution_count": 90,
   "id": "14545830-cee9-465d-b160-5f1f75b05114",
   "metadata": {},
   "outputs": [],
   "source": [
    "#plt.figure(figsize=(9,4))\n",
    "#sns.lineplot(x='Year',y='Avg_Temp',data=latest_df)\n",
    "#plt.show()"
   ]
  },
  {
   "cell_type": "markdown",
   "id": "b9ae9321-b011-4e52-86fa-f8acd07aaef5",
   "metadata": {},
   "source": [
    "# Resampling data annualy to get distinct line"
   ]
  },
  {
   "cell_type": "code",
   "execution_count": 91,
   "id": "4740f27c-ea62-4ad7-b611-9172ce1f08a4",
   "metadata": {},
   "outputs": [
    {
     "data": {
      "text/html": [
       "<div>\n",
       "<style scoped>\n",
       "    .dataframe tbody tr th:only-of-type {\n",
       "        vertical-align: middle;\n",
       "    }\n",
       "\n",
       "    .dataframe tbody tr th {\n",
       "        vertical-align: top;\n",
       "    }\n",
       "\n",
       "    .dataframe thead th {\n",
       "        text-align: right;\n",
       "    }\n",
       "</style>\n",
       "<table border=\"1\" class=\"dataframe\">\n",
       "  <thead>\n",
       "    <tr style=\"text-align: right;\">\n",
       "      <th></th>\n",
       "      <th>Avg_Temp</th>\n",
       "    </tr>\n",
       "    <tr>\n",
       "      <th>Date</th>\n",
       "      <th></th>\n",
       "    </tr>\n",
       "  </thead>\n",
       "  <tbody>\n",
       "    <tr>\n",
       "      <th>1980-12-31</th>\n",
       "      <td>9.689856</td>\n",
       "    </tr>\n",
       "    <tr>\n",
       "      <th>1981-12-31</th>\n",
       "      <td>10.366578</td>\n",
       "    </tr>\n",
       "    <tr>\n",
       "      <th>1982-12-31</th>\n",
       "      <td>9.837958</td>\n",
       "    </tr>\n",
       "    <tr>\n",
       "      <th>1983-12-31</th>\n",
       "      <td>10.259516</td>\n",
       "    </tr>\n",
       "    <tr>\n",
       "      <th>1984-12-31</th>\n",
       "      <td>9.724950</td>\n",
       "    </tr>\n",
       "  </tbody>\n",
       "</table>\n",
       "</div>"
      ],
      "text/plain": [
       "             Avg_Temp\n",
       "Date                 \n",
       "1980-12-31   9.689856\n",
       "1981-12-31  10.366578\n",
       "1982-12-31   9.837958\n",
       "1983-12-31  10.259516\n",
       "1984-12-31   9.724950"
      ]
     },
     "execution_count": 91,
     "metadata": {},
     "output_type": "execute_result"
    }
   ],
   "source": [
    "resample_df=latest_df[['Avg_Temp']].resample('A').mean()\n",
    "resample_df.head()"
   ]
  },
  {
   "cell_type": "code",
   "execution_count": 92,
   "id": "e2332705-43e4-4455-b562-1d370edb6d89",
   "metadata": {},
   "outputs": [
    {
     "data": {
      "text/plain": [
       "<matplotlib.legend.Legend at 0x7fd3dfb215e0>"
      ]
     },
     "execution_count": 92,
     "metadata": {},
     "output_type": "execute_result"
    },
    {
     "data": {
      "image/png": "[encoded data removed]",
      "text/plain": [
       "<Figure size 576x360 with 1 Axes>"
      ]
     },
     "metadata": {
      "needs_background": "light"
     },
     "output_type": "display_data"
    }
   ],
   "source": [
    "resample_df.plot(title='Temperature change from 1980-2013',figsize=(8,5))\n",
    "plt.ylabel('Temperature',fontsize=12)\n",
    "plt.xlabel('year',fontsize=12)\n",
    "plt.legend()"
   ]
  },
  {
   "cell_type": "markdown",
   "id": "3087a109-a19d-4952-9aa2-924adc4a73a3",
   "metadata": {},
   "source": [
    "# Apply Dickey–Fuller test"
   ]
  },
  {
   "cell_type": "code",
   "execution_count": 93,
   "id": "92f9773e-2085-46fc-8bb6-186892f66cb1",
   "metadata": {},
   "outputs": [
    {
     "name": "stdout",
     "output_type": "stream",
     "text": [
      "Dicky Fuller Test Results:\n",
      "Test Statistic                 -0.728209\n",
      "p-value                         0.839307\n",
      "Lags Used                       2.000000\n",
      "Number of observations Used    31.000000\n",
      "Critical Value(1%)             -3.661429\n",
      "Critical Value(5%)             -2.960525\n",
      "Critical Value(10%)            -2.619319\n",
      "dtype: float64\n"
     ]
    }
   ],
   "source": [
    "from statsmodels.tsa.stattools import adfuller\n",
    "print('Dicky Fuller Test Results:')\n",
    "test_df = adfuller(resample_df.iloc[:,0].values,autolag='AIC')\n",
    "df_output=pd.Series(test_df[0:4],index=['Test Statistic','p-value','Lags Used','Number of observations Used'])\n",
    "for key,value in test_df[4].items():\n",
    "                    df_output['Critical Value(%s)' %key]=value\n",
    "                    \n",
    "print(df_output)"
   ]
  },
  {
   "cell_type": "markdown",
   "id": "ad01260a-66cc-4b7b-aad9-070640cac60e",
   "metadata": {},
   "source": [
    "### Here test statistic is greater than the critical values.so we failed to reject the nulll hypothesis.This implies time series is not stationary. So we decompose data and compare with seasonal, original data and trend data"
   ]
  },
  {
   "cell_type": "code",
   "execution_count": 94,
   "id": "f5d65799-da8b-4e8d-8748-950d93634ebb",
   "metadata": {},
   "outputs": [],
   "source": [
    "decomp = seasonal_decompose(resample_df,freq=3)\n",
    "\n",
    "trend= decomp.trend\n",
    "seasonal =decomp.seasonal\n",
    "residual=decomp.resid\n"
   ]
  },
  {
   "cell_type": "code",
   "execution_count": 95,
   "id": "d84ee173-9e84-4e8c-8f9c-bad0bc7f2d98",
   "metadata": {},
   "outputs": [
    {
     "data": {
      "image/png": "[encoded data removed]",
      "text/plain": [
       "<Figure size 432x288 with 1 Axes>"
      ]
     },
     "metadata": {
      "needs_background": "light"
     },
     "output_type": "display_data"
    },
    {
     "data": {
      "image/png": "[encoded data removed]",
      "text/plain": [
       "<Figure size 432x360 with 1 Axes>"
      ]
     },
     "metadata": {
      "needs_background": "light"
     },
     "output_type": "display_data"
    },
    {
     "data": {
      "image/png": "[encoded data removed]",
      "text/plain": [
       "<Figure size 432x360 with 1 Axes>"
      ]
     },
     "metadata": {
      "needs_background": "light"
     },
     "output_type": "display_data"
    },
    {
     "data": {
      "image/png": "[encoded data removed]",
      "text/plain": [
       "<Figure size 432x360 with 1 Axes>"
      ]
     },
     "metadata": {
      "needs_background": "light"
     },
     "output_type": "display_data"
    },
    {
     "data": {
      "text/plain": [
       "<Figure size 432x360 with 0 Axes>"
      ]
     },
     "metadata": {},
     "output_type": "display_data"
    }
   ],
   "source": [
    "#Plot original time series\n",
    "plt.subplot(411)\n",
    "plt.plot(resample_df)\n",
    "plt.xlabel('Original')\n",
    "plt.figure(figsize=(6,5))\n",
    "\n",
    "#plot trend line\n",
    "plt.subplot(412)\n",
    "plt.plot(trend)\n",
    "plt.xlabel('Trend')\n",
    "plt.figure(figsize=(6,5))\n",
    "\n",
    "#plot seasonal\n",
    "plt.subplot(413)\n",
    "plt.plot(seasonal)\n",
    "plt.xlabel('Seasonal')\n",
    "plt.figure(figsize=(6,5))\n",
    "\n",
    "#plot residual\n",
    "plt.subplot(414)\n",
    "plt.plot(residual)\n",
    "plt.xlabel('Residual')\n",
    "plt.figure(figsize=(6,5))\n",
    "\n",
    "plt.tight_layout()"
   ]
  },
  {
   "cell_type": "code",
   "execution_count": 98,
   "id": "47e93087-a17b-4f5e-8bf5-77437fc82ed1",
   "metadata": {},
   "outputs": [
    {
     "data": {
      "image/png": "[encoded data removed]",
      "text/plain": [
       "<Figure size 864x360 with 2 Axes>"
      ]
     },
     "metadata": {
      "needs_background": "light"
     },
     "output_type": "display_data"
    }
   ],
   "source": [
    "# Transforming data using \n",
    "\n",
    "rol_mean =resample_df.rolling(window=3,center=True).mean()\n",
    "\n",
    "ewm = resample_df.ewm(span=3).mean() #exponential weighted mean\n",
    "\n",
    "rol_std = resample_df.rolling(window=3,center=True).std()\n",
    "\n",
    "fig,(ax1,ax2)=plt.subplots(1,2,figsize=(12,5))\n",
    "\n",
    "#temp graph with rolling meand and exponentially weighted mean\n",
    "\n",
    "ax1.plot(resample_df,label='Original')\n",
    "ax1.plot(rol_mean,label='Rolling Mean')\n",
    "ax1.plot(ewm,label='Exponentially weighted mean')\n",
    "ax1.set_title('Temperature Change from 1980-1983',fontsize=14)\n",
    "ax1.set_ylabel('Temperature',fontsize=12)\n",
    "ax1.set_xlabel('Year',fontsize=12)\n",
    "ax1.legend()\n",
    "\n",
    "#temp graph with rolling meand and exponentially weighted mean\n",
    "\n",
    "ax2.plot(rol_std,label='Rolling STD')\n",
    "ax2.set_title('Temperature Change from 1980-1983',fontsize=14)\n",
    "ax2.set_ylabel('Temperature',fontsize=12)\n",
    "ax2.set_xlabel('Year',fontsize=12)\n",
    "ax2.legend()\n",
    "\n",
    "plt.tight_layout()\n",
    "plt.show()\n"
   ]
  },
  {
   "cell_type": "markdown",
   "id": "a481ad14-d5fb-4be7-a5b2-6343f29287ba",
   "metadata": {},
   "source": [
    "# Apply again Dicki Fuller Test"
   ]
  },
  {
   "cell_type": "code",
   "execution_count": 106,
   "id": "340aa5cb-29f2-4dd5-9dd6-eb6944b08fed",
   "metadata": {},
   "outputs": [
    {
     "name": "stdout",
     "output_type": "stream",
     "text": [
      "Dicky Fuller Test for rolling mean:\n",
      "Test Statistic                  0.275101\n",
      "p-value                         0.976173\n",
      "Lags Used                       8.000000\n",
      "Number of observations Used    23.000000\n",
      "Critical Value(1%)             -3.752928\n",
      "Critical Value(5%)             -2.998500\n",
      "Critical Value(10%)            -2.638967\n",
      "dtype: float64\n",
      "\n",
      "Dickey-Fuller Test for the exponentially weighted mean:\n",
      "Test Statistic                 -0.338693\n",
      "p-value                         0.919843\n",
      "Lags Used                       2.000000\n",
      "Number of observations Used    31.000000\n",
      "Critical Value(1%)             -3.661429\n",
      "Critical Value(5%)             -2.960525\n",
      "Critical Value(10%)            -2.619319\n",
      "dtype: float64\n"
     ]
    }
   ],
   "source": [
    "rol_mean.dropna(inplace=True)\n",
    "ewm.dropna(inplace=True)\n",
    "\n",
    "print('Dicky Fuller Test for rolling mean:')\n",
    "df_test = adfuller(rol_mean.iloc[:,0].values,autolag='AIC')\n",
    "df_output=pd.Series(df_test[0:4],\\\n",
    "                    index=['Test Statistic','p-value','Lags Used','Number of observations Used'])\n",
    "for key,value in df_test[4].items():\n",
    "                    df_output['Critical Value(%s)' %key]=value\n",
    "print(df_output)\n",
    "                    \n",
    "print('')\n",
    "print('Dickey-Fuller Test for the exponentially weighted mean:')\n",
    "df_test = adfuller(ewm.iloc[:,0].values,autolag='AIC')\n",
    "df_output=pd.Series(df_test[0:4],\\\n",
    "                    index=['Test Statistic','p-value','Lags Used','Number of observations Used'])\n",
    "for key,value in df_test[4].items():\n",
    "                    df_output['Critical Value(%s)' %key]=value\n",
    "        \n",
    "print(df_output)"
   ]
  },
  {
   "cell_type": "markdown",
   "id": "83003656-a9e1-437b-946d-1d79497b30e4",
   "metadata": {},
   "source": [
    "# Here both the test are greater than the critical values. so we failed to reject null hypothesis."
   ]
  },
  {
   "cell_type": "code",
   "execution_count": 101,
   "id": "204a8ef3-16c4-4b99-ae99-35aeba92ae1f",
   "metadata": {},
   "outputs": [
    {
     "data": {
      "text/html": [
       "<div>\n",
       "<style scoped>\n",
       "    .dataframe tbody tr th:only-of-type {\n",
       "        vertical-align: middle;\n",
       "    }\n",
       "\n",
       "    .dataframe tbody tr th {\n",
       "        vertical-align: top;\n",
       "    }\n",
       "\n",
       "    .dataframe thead th {\n",
       "        text-align: right;\n",
       "    }\n",
       "</style>\n",
       "<table border=\"1\" class=\"dataframe\">\n",
       "  <thead>\n",
       "    <tr style=\"text-align: right;\">\n",
       "      <th></th>\n",
       "      <th>Avg_Temp</th>\n",
       "    </tr>\n",
       "    <tr>\n",
       "      <th>Date</th>\n",
       "      <th></th>\n",
       "    </tr>\n",
       "  </thead>\n",
       "  <tbody>\n",
       "    <tr>\n",
       "      <th>1981-12-31</th>\n",
       "      <td>0.401781</td>\n",
       "    </tr>\n",
       "    <tr>\n",
       "      <th>1982-12-31</th>\n",
       "      <td>-0.316726</td>\n",
       "    </tr>\n",
       "    <tr>\n",
       "      <th>1983-12-31</th>\n",
       "      <td>0.318708</td>\n",
       "    </tr>\n",
       "    <tr>\n",
       "      <th>1984-12-31</th>\n",
       "      <td>-0.091684</td>\n",
       "    </tr>\n",
       "    <tr>\n",
       "      <th>1985-12-31</th>\n",
       "      <td>-0.236199</td>\n",
       "    </tr>\n",
       "  </tbody>\n",
       "</table>\n",
       "</div>"
      ],
      "text/plain": [
       "            Avg_Temp\n",
       "Date                \n",
       "1981-12-31  0.401781\n",
       "1982-12-31 -0.316726\n",
       "1983-12-31  0.318708\n",
       "1984-12-31 -0.091684\n",
       "1985-12-31 -0.236199"
      ]
     },
     "execution_count": 101,
     "metadata": {},
     "output_type": "execute_result"
    }
   ],
   "source": [
    "diff_rol_mean = resample_df-rol_mean\n",
    "diff_rol_mean.dropna(inplace=True)\n",
    "diff_rol_mean.head()"
   ]
  },
  {
   "cell_type": "code",
   "execution_count": 102,
   "id": "e698d334-50ab-4e58-81fe-82793575edcb",
   "metadata": {},
   "outputs": [
    {
     "data": {
      "text/html": [
       "<div>\n",
       "<style scoped>\n",
       "    .dataframe tbody tr th:only-of-type {\n",
       "        vertical-align: middle;\n",
       "    }\n",
       "\n",
       "    .dataframe tbody tr th {\n",
       "        vertical-align: top;\n",
       "    }\n",
       "\n",
       "    .dataframe thead th {\n",
       "        text-align: right;\n",
       "    }\n",
       "</style>\n",
       "<table border=\"1\" class=\"dataframe\">\n",
       "  <thead>\n",
       "    <tr style=\"text-align: right;\">\n",
       "      <th></th>\n",
       "      <th>Avg_Temp</th>\n",
       "    </tr>\n",
       "    <tr>\n",
       "      <th>Date</th>\n",
       "      <th></th>\n",
       "    </tr>\n",
       "  </thead>\n",
       "  <tbody>\n",
       "    <tr>\n",
       "      <th>1980-12-31</th>\n",
       "      <td>0.000000</td>\n",
       "    </tr>\n",
       "    <tr>\n",
       "      <th>1981-12-31</th>\n",
       "      <td>0.225574</td>\n",
       "    </tr>\n",
       "    <tr>\n",
       "      <th>1982-12-31</th>\n",
       "      <td>-0.129877</td>\n",
       "    </tr>\n",
       "    <tr>\n",
       "      <th>1983-12-31</th>\n",
       "      <td>0.136118</td>\n",
       "    </tr>\n",
       "    <tr>\n",
       "      <th>1984-12-31</th>\n",
       "      <td>-0.192797</td>\n",
       "    </tr>\n",
       "  </tbody>\n",
       "</table>\n",
       "</div>"
      ],
      "text/plain": [
       "            Avg_Temp\n",
       "Date                \n",
       "1980-12-31  0.000000\n",
       "1981-12-31  0.225574\n",
       "1982-12-31 -0.129877\n",
       "1983-12-31  0.136118\n",
       "1984-12-31 -0.192797"
      ]
     },
     "execution_count": 102,
     "metadata": {},
     "output_type": "execute_result"
    }
   ],
   "source": [
    "diff_ewm = resample_df-ewm\n",
    "diff_ewm.dropna(inplace=True)\n",
    "diff_ewm.head()"
   ]
  },
  {
   "cell_type": "code",
   "execution_count": 105,
   "id": "8218f421-f6d1-457e-bb7e-ccfc69841959",
   "metadata": {},
   "outputs": [
    {
     "data": {
      "image/png": "[encoded data removed]",
      "text/plain": [
       "<Figure size 720x288 with 2 Axes>"
      ]
     },
     "metadata": {
      "needs_background": "light"
     },
     "output_type": "display_data"
    }
   ],
   "source": [
    "df_rol_mean_diff =diff_rol_mean.rolling(window=3,center=True).mean()\n",
    "\n",
    "df_ewm_diff = diff_ewm.ewm(span=3).mean() #exponential weighted mean\n",
    "\n",
    "rol_std = resample_df.rolling(window=3,center=True).std()\n",
    "\n",
    "fig,(ax1,ax2)=plt.subplots(1,2,figsize=(10,4))\n",
    "\n",
    "#temp graph with rolling meand and exponentially weighted mean\n",
    "\n",
    "ax1.plot(diff_rol_mean,label='Original')\n",
    "ax1.plot(df_rol_mean_diff,label='Rolling Mean')\n",
    "ax1.set_title('Temperature Change from 1980-1983',fontsize=14)\n",
    "ax1.set_ylabel('Temperature',fontsize=14)\n",
    "ax1.set_xlabel('Year',fontsize=14)\n",
    "ax1.legend()\n",
    "\n",
    "#temp graph with rolling meand and exponentially weighted mean\n",
    "\n",
    "ax2.plot(diff_ewm,label='Original')\n",
    "ax2.plot(df_ewm_diff,label='Exponentially weighted mean')\n",
    "ax2.set_title('Temperature Change from 1980-1983',fontsize=14)\n",
    "ax2.set_ylabel('Temperature',fontsize=12)\n",
    "ax2.set_xlabel('Year',fontsize=12)\n",
    "ax2.legend()\n",
    "\n",
    "plt.tight_layout()\n",
    "plt.show()"
   ]
  },
  {
   "cell_type": "markdown",
   "id": "e3c4a94f-7c3f-40d8-b053-f716c165a4db",
   "metadata": {},
   "source": [
    "# Apply Dickey-Fuller Test again"
   ]
  },
  {
   "cell_type": "code",
   "execution_count": 107,
   "id": "4dc840a5-2504-42b3-88eb-cad07afd4ae5",
   "metadata": {},
   "outputs": [
    {
     "name": "stdout",
     "output_type": "stream",
     "text": [
      "Dicky Fuller Test for difference between original and rolling mean:\n",
      "Test Statistic                -7.007710e+00\n",
      "p-value                        7.051586e-10\n",
      "Lags Used                      1.000000e+00\n",
      "Number of observations Used    3.000000e+01\n",
      "Critical Value(1%)            -3.669920e+00\n",
      "Critical Value(5%)            -2.964071e+00\n",
      "Critical Value(10%)           -2.621171e+00\n",
      "dtype: float64\n",
      "\n",
      "Dickey-Fuller Test for difference between original and the exponentially weighted mean:\n",
      "Test Statistic                 -4.297446\n",
      "p-value                         0.000449\n",
      "Lags Used                       1.000000\n",
      "Number of observations Used    32.000000\n",
      "Critical Value(1%)             -3.653520\n",
      "Critical Value(5%)             -2.957219\n",
      "Critical Value(10%)            -2.617588\n",
      "dtype: float64\n"
     ]
    }
   ],
   "source": [
    "print('Dicky Fuller Test for difference between original and rolling mean:')\n",
    "df_test = adfuller(diff_rol_mean.iloc[:,0].values,autolag='AIC')\n",
    "df_output=pd.Series(df_test[0:4],\\\n",
    "                    index=['Test Statistic','p-value','Lags Used','Number of observations Used'])\n",
    "for key,value in df_test[4].items():\n",
    "                    df_output['Critical Value(%s)' %key]=value\n",
    "print(df_output)\n",
    "                    \n",
    "print('')\n",
    "print('Dickey-Fuller Test for difference between original and the exponentially weighted mean:')\n",
    "df_test = adfuller(diff_ewm.iloc[:,0].values,autolag='AIC')\n",
    "df_output=pd.Series(df_test[0:4],\\\n",
    "                    index=['Test Statistic','p-value','Lags Used','Number of observations Used'])\n",
    "for key,value in df_test[4].items():\n",
    "                    df_output['Critical Value(%s)' %key]=value\n",
    "        \n",
    "print(df_output)"
   ]
  },
  {
   "cell_type": "markdown",
   "id": "cb8af0c3-c06e-4732-81e8-f4d19ccdbe02",
   "metadata": {},
   "source": [
    "# *Here critical values is less than critical values for both rolling mean and exponentially weighted mean.*"
   ]
  },
  {
   "cell_type": "code",
   "execution_count": 108,
   "id": "5e918f78-68c4-4760-afbd-d4ea9e379a71",
   "metadata": {},
   "outputs": [],
   "source": [
    "# we can reject null hypothesis. and we are confident at this point."
   ]
  },
  {
   "cell_type": "code",
   "execution_count": 110,
   "id": "7b654a43-c7cc-4c94-b176-2ddcffb2cccc",
   "metadata": {},
   "outputs": [],
   "source": [
    "from statsmodels.graphics.tsaplots import plot_acf\n",
    "from statsmodels.graphics.tsaplots import plot_pacf\n",
    "from matplotlib import pyplot"
   ]
  },
  {
   "cell_type": "code",
   "execution_count": 111,
   "id": "f3f1c378-2083-451b-9588-8e6af106ffe8",
   "metadata": {},
   "outputs": [
    {
     "data": {
      "image/png": "[encoded data removed]",
      "text/plain": [
       "<Figure size 720x360 with 2 Axes>"
      ]
     },
     "metadata": {
      "needs_background": "light"
     },
     "output_type": "display_data"
    }
   ],
   "source": [
    "pyplot.figure(figsize=(10,5))\n",
    "pyplot.subplot(211)\n",
    "plot_acf(resample_df,ax=pyplot.gca())\n",
    "pyplot.subplot(212)\n",
    "plot_pacf(resample_df,ax=pyplot.gca())\n",
    "pyplot.show()"
   ]
  },
  {
   "cell_type": "markdown",
   "id": "13293f70-93ab-44c0-ba4e-84c44851b496",
   "metadata": {},
   "source": [
    "p parameter is first value in partial autocorrelation graph which is significantly different than previous values"
   ]
  },
  {
   "cell_type": "markdown",
   "id": "0d50c399-4ee5-45a2-83f1-cb2c47bc5e2c",
   "metadata": {},
   "source": [
    "q in the autocorrelation graph first value and it could be zero.\n",
    "d parameter is difference."
   ]
  }
 ],
 "metadata": {
  "kernelspec": {
   "display_name": "Python 3 (ipykernel)",
   "language": "python",
   "name": "python3"
  },
  "language_info": {
   "codemirror_mode": {
    "name": "ipython",
    "version": 3
   },
   "file_extension": ".py",
   "mimetype": "text/x-python",
   "name": "python",
   "nbconvert_exporter": "python",
   "pygments_lexer": "ipython3",
   "version": "3.8.11"
  }
 },
 "nbformat": 4,
 "nbformat_minor": 5
}
